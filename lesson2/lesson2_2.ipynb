{
 "cells": [
  {
   "cell_type": "code",
   "execution_count": 30,
   "metadata": {},
   "outputs": [],
   "source": [
    "class Person(object):\n",
    "    def __init__(self,name:str,age:int):\n",
    "        #建立attribute\n",
    "        self.__name = name\n",
    "        self.__age = age\n",
    "\n",
    "    #decorator\n",
    "    @property #只可以讀的property\n",
    "    def name(self)->str:\n",
    "        return self.__name\n",
    "    \n",
    "    @property\n",
    "    def age(self)->int:\n",
    "        return self.__age\n",
    "    \n",
    "    @age.setter\n",
    "    def age(self,value:int):\n",
    "        if value < 0 or value > 100:\n",
    "            print('超過範圍')\n",
    "        else:\n",
    "            self.__age = value"
   ]
  },
  {
   "cell_type": "code",
   "execution_count": 32,
   "metadata": {},
   "outputs": [
    {
     "name": "stdout",
     "output_type": "stream",
     "text": [
      "allice\n",
      "50\n"
     ]
    }
   ],
   "source": [
    "p1 = Person('allice',25)\n",
    "#p1.name = \"xxx\"\n",
    "print(p1.name)\n",
    "p1.age = 50\n",
    "print(p1.age)"
   ]
  },
  {
   "cell_type": "code",
   "execution_count": 19,
   "metadata": {},
   "outputs": [
    {
     "name": "stdout",
     "output_type": "stream",
     "text": [
      "jenny\n",
      "21\n"
     ]
    }
   ],
   "source": [
    "p2 = Person(age=21,name='jenny')\n",
    "print(p2.name)\n",
    "print(p2.age)"
   ]
  },
  {
   "cell_type": "code",
   "execution_count": 20,
   "metadata": {},
   "outputs": [
    {
     "name": "stdout",
     "output_type": "stream",
     "text": [
      "robert\n",
      "30\n"
     ]
    }
   ],
   "source": [
    "p3 = Person('robert',age=30)\n",
    "print(p3.name)\n",
    "print(p3.age)"
   ]
  }
 ],
 "metadata": {
  "kernelspec": {
   "display_name": "venv2",
   "language": "python",
   "name": "python3"
  },
  "language_info": {
   "codemirror_mode": {
    "name": "ipython",
    "version": 3
   },
   "file_extension": ".py",
   "mimetype": "text/x-python",
   "name": "python",
   "nbconvert_exporter": "python",
   "pygments_lexer": "ipython3",
   "version": "3.11.10"
  }
 },
 "nbformat": 4,
 "nbformat_minor": 2
}
